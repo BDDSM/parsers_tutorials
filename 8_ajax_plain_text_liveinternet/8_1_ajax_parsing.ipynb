{
 "cells": [
  {
   "cell_type": "code",
   "execution_count": 4,
   "metadata": {},
   "outputs": [],
   "source": [
    "import requests\n",
    "import csv"
   ]
  },
  {
   "cell_type": "code",
   "execution_count": null,
   "metadata": {},
   "outputs": [],
   "source": []
  },
  {
   "cell_type": "code",
   "execution_count": null,
   "metadata": {},
   "outputs": [],
   "source": []
  },
  {
   "cell_type": "code",
   "execution_count": 92,
   "metadata": {},
   "outputs": [],
   "source": [
    "def get_html(url):\n",
    "    r = requests.get(url)\n",
    "    return r.text"
   ]
  },
  {
   "cell_type": "code",
   "execution_count": 99,
   "metadata": {},
   "outputs": [],
   "source": [
    "def write_csv(data):\n",
    "    with open('websites.csv', 'a', newline = '\\n', encoding = 'utf-8') as f:\n",
    "        order = ['name', 'url', 'description', 'traffic', 'percent']\n",
    "        writer = csv.DictWriter(f, fieldnames = order)\n",
    "        writer.writerow(data)"
   ]
  },
  {
   "cell_type": "code",
   "execution_count": null,
   "metadata": {},
   "outputs": [],
   "source": []
  },
  {
   "cell_type": "code",
   "execution_count": null,
   "metadata": {},
   "outputs": [],
   "source": []
  },
  {
   "cell_type": "code",
   "execution_count": null,
   "metadata": {},
   "outputs": [],
   "source": []
  },
  {
   "cell_type": "code",
   "execution_count": 93,
   "metadata": {},
   "outputs": [],
   "source": [
    "# to test error with chars encoding (write_csv ~ utf-8 needed)\n",
    "\n",
    "# def main():\n",
    "    \n",
    "#     # &quote;\n",
    "#     url = 'https://www.liveinternet.ru/rating/ru//today.tsv?page={}'.format(str(4))\n",
    "#     response = get_html(url)\n",
    "#     data = response.strip().split('\\n')[1:]\n",
    "#     for row in data:\n",
    "#         columns = row.strip().split('\\t')\n",
    "#         name = columns[0]\n",
    "#         url = columns[1]\n",
    "#         description = columns[2]\n",
    "#         traffic = columns[3]\n",
    "#         percent = columns[4]\n",
    "\n",
    "#         data = {'name':name,\n",
    "#                 'url': url,\n",
    "#                 'description': description,\n",
    "#                 'traffic': traffic,\n",
    "#                 'percent': percent}\n",
    "#         write_csv(data)"
   ]
  },
  {
   "cell_type": "code",
   "execution_count": 100,
   "metadata": {},
   "outputs": [],
   "source": [
    "def main():\n",
    "    \n",
    "    # &quote;\n",
    "    for i in range(1, 8624):\n",
    "        url = 'https://www.liveinternet.ru/rating/ru//today.tsv?page={}'.format(str(i))\n",
    "        response = get_html(url)\n",
    "        data = response.strip().split('\\n')[1:]\n",
    "        for row in data:\n",
    "            columns = row.strip().split('\\t')\n",
    "            name = columns[0]\n",
    "            url = columns[1]\n",
    "            description = columns[2]\n",
    "            traffic = columns[3]\n",
    "            percent = columns[4]\n",
    "\n",
    "            data = {'name':name,\n",
    "                    'url': url,\n",
    "                    'description': description,\n",
    "                    'traffic': traffic,\n",
    "                    'percent': percent}\n",
    "            write_csv(data)"
   ]
  },
  {
   "cell_type": "code",
   "execution_count": null,
   "metadata": {},
   "outputs": [],
   "source": []
  },
  {
   "cell_type": "code",
   "execution_count": null,
   "metadata": {},
   "outputs": [],
   "source": []
  },
  {
   "cell_type": "code",
   "execution_count": 101,
   "metadata": {},
   "outputs": [],
   "source": [
    "# works over 20 minutes\n",
    "if __name__ == '__main__':\n",
    "    main()"
   ]
  },
  {
   "cell_type": "code",
   "execution_count": null,
   "metadata": {},
   "outputs": [],
   "source": []
  },
  {
   "cell_type": "code",
   "execution_count": null,
   "metadata": {},
   "outputs": [],
   "source": []
  },
  {
   "cell_type": "code",
   "execution_count": null,
   "metadata": {},
   "outputs": [],
   "source": []
  },
  {
   "cell_type": "code",
   "execution_count": null,
   "metadata": {},
   "outputs": [],
   "source": []
  },
  {
   "cell_type": "code",
   "execution_count": null,
   "metadata": {},
   "outputs": [],
   "source": []
  },
  {
   "cell_type": "code",
   "execution_count": null,
   "metadata": {},
   "outputs": [],
   "source": []
  },
  {
   "cell_type": "code",
   "execution_count": null,
   "metadata": {},
   "outputs": [],
   "source": []
  },
  {
   "cell_type": "code",
   "execution_count": null,
   "metadata": {},
   "outputs": [],
   "source": []
  }
 ],
 "metadata": {
  "kernelspec": {
   "display_name": "Python 3",
   "language": "python",
   "name": "python3"
  },
  "language_info": {
   "codemirror_mode": {
    "name": "ipython",
    "version": 3
   },
   "file_extension": ".py",
   "mimetype": "text/x-python",
   "name": "python",
   "nbconvert_exporter": "python",
   "pygments_lexer": "ipython3",
   "version": "3.6.5"
  }
 },
 "nbformat": 4,
 "nbformat_minor": 2
}
