{
 "cells": [
  {
   "cell_type": "code",
   "execution_count": 47,
   "metadata": {},
   "outputs": [],
   "source": [
    "import requests\n",
    "from bs4 import BeautifulSoup\n",
    "import csv\n",
    "import re"
   ]
  },
  {
   "cell_type": "code",
   "execution_count": null,
   "metadata": {},
   "outputs": [],
   "source": []
  },
  {
   "cell_type": "code",
   "execution_count": null,
   "metadata": {},
   "outputs": [],
   "source": []
  },
  {
   "cell_type": "code",
   "execution_count": 13,
   "metadata": {},
   "outputs": [],
   "source": [
    "def get_html(url):\n",
    "    r = requests.get(url)\n",
    "    if r.ok:\n",
    "        return r.text\n",
    "    print(r.status_code)"
   ]
  },
  {
   "cell_type": "code",
   "execution_count": null,
   "metadata": {},
   "outputs": [],
   "source": []
  },
  {
   "cell_type": "code",
   "execution_count": null,
   "metadata": {},
   "outputs": [],
   "source": []
  },
  {
   "cell_type": "code",
   "execution_count": 34,
   "metadata": {},
   "outputs": [],
   "source": [
    "def write_csv(data):\n",
    "    with open(\"cmc.csv\", \"a\", newline = \"\\n\") as f:\n",
    "        writer = csv.writer(f)\n",
    "        writer.writerow([data['name'], data['url'], data['price']])"
   ]
  },
  {
   "cell_type": "code",
   "execution_count": null,
   "metadata": {},
   "outputs": [],
   "source": []
  },
  {
   "cell_type": "code",
   "execution_count": 53,
   "metadata": {},
   "outputs": [],
   "source": [
    "def get_page_data(html):\n",
    "    soup = BeautifulSoup(html, \"lxml\")\n",
    "    trs = soup.find('table', id = \"currencies\").find(\"tbody\").find_all(\"tr\")\n",
    "    \n",
    "    for tr in trs:\n",
    "        tds = tr.find_all(\"td\")\n",
    "        \n",
    "        try:\n",
    "            name = tds[1].find(\"a\", class_ = 'currency-name-container link-secondary').text.strip()\n",
    "        except:\n",
    "            name = ''\n",
    "        \n",
    "        try:\n",
    "            url = 'https://coinmarketcap.com' + tds[1].find(\"a\", class_ = 'currency-name-container link-secondary').get('href')\n",
    "        except:\n",
    "            url = ''\n",
    "            \n",
    "        try:\n",
    "            #price = tds[3].find(\"a\", class_ = 'price').text\n",
    "            price = tds[3].find(\"a\", class_ = 'price').get('data-usd').strip()\n",
    "        except:\n",
    "            price = ''\n",
    "            \n",
    "        data = {'name':name,\n",
    "                'url': url,\n",
    "                'price': price}\n",
    "        \n",
    "        write_csv(data)    \n",
    "        #print(name, price, sep = ' ')"
   ]
  },
  {
   "cell_type": "code",
   "execution_count": null,
   "metadata": {},
   "outputs": [],
   "source": []
  },
  {
   "cell_type": "code",
   "execution_count": 43,
   "metadata": {},
   "outputs": [],
   "source": [
    "##### template of main to test\n",
    "\n",
    "def main():\n",
    "    url = 'https://coinmarketcap.com/'\n",
    "    # get_page_data(get_html(url))\n",
    "    \n",
    "    #while True:\n",
    "        #get_page_data(get_html(url))\n",
    "    soup = BeautifulSoup(get_html(url), 'lxml')\n",
    "    page = soup.find('ul', class_ = 'pagination bottom-paginator').find('a').get('href')\n",
    "    print(page)"
   ]
  },
  {
   "cell_type": "code",
   "execution_count": 48,
   "metadata": {},
   "outputs": [],
   "source": [
    "def main():\n",
    "    url = 'https://coinmarketcap.com/'\n",
    "    # get_page_data(get_html(url))\n",
    "    \n",
    "    while True:\n",
    "        get_page_data(get_html(url))\n",
    "        soup = BeautifulSoup(get_html(url), 'lxml')\n",
    "        try:\n",
    "            pattern = 'Next'\n",
    "            url = 'https://coinmarketcap.com/' + soup.find('ul', class_ = 'pagination bottom-paginator').find('a',\n",
    "                  text = re.compile(pattern)).get('href')\n",
    "        except:\n",
    "            break"
   ]
  },
  {
   "cell_type": "code",
   "execution_count": null,
   "metadata": {},
   "outputs": [],
   "source": []
  },
  {
   "cell_type": "code",
   "execution_count": 52,
   "metadata": {},
   "outputs": [
    {
     "name": "stdout",
     "output_type": "stream",
     "text": [
      "Wall time: 32.5 s\n"
     ]
    }
   ],
   "source": [
    "%%time\n",
    "if __name__ == \"__main__\":\n",
    "    main()"
   ]
  },
  {
   "cell_type": "code",
   "execution_count": null,
   "metadata": {},
   "outputs": [],
   "source": []
  },
  {
   "cell_type": "code",
   "execution_count": null,
   "metadata": {},
   "outputs": [],
   "source": []
  },
  {
   "cell_type": "code",
   "execution_count": null,
   "metadata": {},
   "outputs": [],
   "source": []
  },
  {
   "cell_type": "code",
   "execution_count": null,
   "metadata": {},
   "outputs": [],
   "source": []
  },
  {
   "cell_type": "code",
   "execution_count": null,
   "metadata": {},
   "outputs": [],
   "source": []
  },
  {
   "cell_type": "code",
   "execution_count": null,
   "metadata": {},
   "outputs": [],
   "source": []
  },
  {
   "cell_type": "code",
   "execution_count": null,
   "metadata": {},
   "outputs": [],
   "source": []
  },
  {
   "cell_type": "code",
   "execution_count": null,
   "metadata": {},
   "outputs": [],
   "source": []
  },
  {
   "cell_type": "code",
   "execution_count": null,
   "metadata": {},
   "outputs": [],
   "source": []
  }
 ],
 "metadata": {
  "kernelspec": {
   "display_name": "Python 3",
   "language": "python",
   "name": "python3"
  },
  "language_info": {
   "codemirror_mode": {
    "name": "ipython",
    "version": 3
   },
   "file_extension": ".py",
   "mimetype": "text/x-python",
   "name": "python",
   "nbconvert_exporter": "python",
   "pygments_lexer": "ipython3",
   "version": "3.6.5"
  }
 },
 "nbformat": 4,
 "nbformat_minor": 2
}
