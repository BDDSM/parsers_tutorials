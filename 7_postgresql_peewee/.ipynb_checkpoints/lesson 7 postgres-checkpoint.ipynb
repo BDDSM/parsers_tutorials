{
 "cells": [
  {
   "cell_type": "code",
   "execution_count": 3,
   "metadata": {},
   "outputs": [],
   "source": [
    "import csv"
   ]
  },
  {
   "cell_type": "code",
   "execution_count": 6,
   "metadata": {},
   "outputs": [],
   "source": [
    "from peewee import *\n"
   ]
  },
  {
   "cell_type": "code",
   "execution_count": 7,
   "metadata": {},
   "outputs": [],
   "source": [
    "db = PostgresqlDatabase(database = 'test', user = 'postgres',\n",
    "                       password = '####', host = 'localhost')"
   ]
  },
  {
   "cell_type": "code",
   "execution_count": 8,
   "metadata": {},
   "outputs": [],
   "source": [
    "class Coin(Model):\n",
    "    name = CharField()\n",
    "    url = TextField()\n",
    "    price = CharField()\n",
    "    \n",
    "    class Meta:\n",
    "        database = db"
   ]
  },
  {
   "cell_type": "code",
   "execution_count": 16,
   "metadata": {},
   "outputs": [
    {
     "data": {
      "text/plain": [
       "False"
      ]
     },
     "execution_count": 16,
     "metadata": {},
     "output_type": "execute_result"
    }
   ],
   "source": [
    "db.close()"
   ]
  },
  {
   "cell_type": "code",
   "execution_count": null,
   "metadata": {},
   "outputs": [],
   "source": []
  },
  {
   "cell_type": "code",
   "execution_count": null,
   "metadata": {},
   "outputs": [],
   "source": []
  },
  {
   "cell_type": "code",
   "execution_count": null,
   "metadata": {},
   "outputs": [],
   "source": []
  },
  {
   "cell_type": "code",
   "execution_count": 14,
   "metadata": {},
   "outputs": [],
   "source": [
    "def main(): \n",
    "    \n",
    "    db.connect(reuse_if_open = True)\n",
    "    db.create_tables([Coin])\n",
    "    \n",
    "    with open('cmc.csv') as f:\n",
    "        order = ['name', 'url', 'price']\n",
    "        reader = csv.DictReader(f, fieldnames = order)\n",
    "        \n",
    "        coins = list(reader)\n",
    "        \n",
    "        # slow method\n",
    "        #for row in coins:\n",
    "        #    coin = Coin(name = row['name'], url = row['url'],\n",
    "        #               price = row['price'])\n",
    "        #    coin.save()\n",
    "        \n",
    "        #normal method\n",
    "#         with db.atomic():\n",
    "#             for row in coins:\n",
    "#                 Coin.create(**row)\n",
    "    #fast method by slicing data to decrease the number of iterations   \n",
    "    with db.atomic():\n",
    "        for index in range(0,len(coins), 100):\n",
    "            Coin.insert_many(coins[index:(index+100)]).execute()\n",
    "        \n",
    "        \n",
    "        "
   ]
  },
  {
   "cell_type": "code",
   "execution_count": 20,
   "metadata": {},
   "outputs": [
    {
     "name": "stdout",
     "output_type": "stream",
     "text": [
      "Object `peewee.pg_dump` not found.\n"
     ]
    }
   ],
   "source": []
  },
  {
   "cell_type": "code",
   "execution_count": null,
   "metadata": {},
   "outputs": [],
   "source": []
  },
  {
   "cell_type": "code",
   "execution_count": 17,
   "metadata": {},
   "outputs": [],
   "source": [
    "if __name__ == '__main__':\n",
    "    main()"
   ]
  },
  {
   "cell_type": "code",
   "execution_count": null,
   "metadata": {},
   "outputs": [],
   "source": [
    "# to write in cmd on windows\n",
    "# pg_dump -U postgres -h localhost test > C:/table.sql"
   ]
  },
  {
   "cell_type": "code",
   "execution_count": null,
   "metadata": {},
   "outputs": [],
   "source": []
  }
 ],
 "metadata": {
  "kernelspec": {
   "display_name": "Python 3",
   "language": "python",
   "name": "python3"
  },
  "language_info": {
   "codemirror_mode": {
    "name": "ipython",
    "version": 3
   },
   "file_extension": ".py",
   "mimetype": "text/x-python",
   "name": "python",
   "nbconvert_exporter": "python",
   "pygments_lexer": "ipython3",
   "version": "3.6.5"
  }
 },
 "nbformat": 4,
 "nbformat_minor": 2
}
