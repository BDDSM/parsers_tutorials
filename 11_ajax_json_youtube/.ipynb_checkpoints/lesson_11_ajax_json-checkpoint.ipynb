{
 "cells": [
  {
   "cell_type": "code",
   "execution_count": 1,
   "metadata": {},
   "outputs": [],
   "source": [
    "import requests"
   ]
  },
  {
   "cell_type": "code",
   "execution_count": 48,
   "metadata": {},
   "outputs": [],
   "source": [
    "from bs4 import BeautifulSoup\n",
    "import csv"
   ]
  },
  {
   "cell_type": "code",
   "execution_count": 61,
   "metadata": {},
   "outputs": [],
   "source": [
    "def write_csv(data):\n",
    "    with open('videos.csv', 'a', newline = '\\n') as f:\n",
    "        order = ['name', 'url']\n",
    "        writer = csv.DictWriter(f, fieldnames = order)\n",
    "        writer.writerow(data)"
   ]
  },
  {
   "cell_type": "code",
   "execution_count": 41,
   "metadata": {},
   "outputs": [],
   "source": [
    "def get_html(url):\n",
    "    r = requests.get(url)\n",
    "    return r"
   ]
  },
  {
   "cell_type": "code",
   "execution_count": 44,
   "metadata": {},
   "outputs": [],
   "source": [
    "def get_page_data(response):\n",
    "    if 'html' in response.headers['Content-Type']:\n",
    "        html = response.text\n",
    "    else:\n",
    "        html = response.json()['content_html']\n",
    "        \n",
    "    soup = BeautifulSoup(html, 'lxml')\n",
    "    items = soup.find_all('h3', class_ = 'yt-lockup-title')\n",
    "    \n",
    "    for item in items:\n",
    "        name = item.text.strip()\n",
    "        url = item.find('a').get('href')\n",
    "        \n",
    "        data = {'name': name, 'url': url}\n",
    "        write_csv(data)"
   ]
  },
  {
   "cell_type": "code",
   "execution_count": 52,
   "metadata": {},
   "outputs": [],
   "source": [
    "def get_next(response):\n",
    "    if 'html' in response.headers['Content-Type']:\n",
    "        html = response.text\n",
    "    else:\n",
    "        html = response.json()['load_more_widget_html']\n",
    "    \n",
    "    soup = BeautifulSoup(html, 'lxml')\n",
    "    \n",
    "    try:\n",
    "        url = 'https://youtube.com' + soup.find('button', class_ = 'load-more-button').get('data-uix-load-more-href')\n",
    "    except:\n",
    "        url = ''\n",
    "    \n",
    "    return url"
   ]
  },
  {
   "cell_type": "code",
   "execution_count": null,
   "metadata": {},
   "outputs": [],
   "source": []
  },
  {
   "cell_type": "code",
   "execution_count": null,
   "metadata": {},
   "outputs": [],
   "source": [
    "# wtite in chrome console to get youtube old design\n",
    "# document.cookie = document.cookie.split(' ').filter(o=>o.indexOf('PREF=')!==-1)[0].replace(';','')+'&f5=30030&f6=8;domain=.youtube.com;path=/';"
   ]
  },
  {
   "cell_type": "code",
   "execution_count": 58,
   "metadata": {},
   "outputs": [],
   "source": [
    "def main():\n",
    "    url = 'https://www.youtube.com/browse_ajax?ctoken=4qmFsgI8EhhVQ3F6QmloWW1IMHUtOGg4WFcyZnY1NUEaIEVnWjJhV1JsYjNNZ0FEQUJPQUZnQVdvQWVnRXl1QUVB&continuation=4qmFsgI8EhhVQ3F6QmloWW1IMHUtOGg4WFcyZnY1NUEaIEVnWjJhV1JsYjNNZ0FEQUJPQUZnQVdvQWVnRXl1QUVB&itct=CD8QybcCIhMIwqi9q4T44AIVIh6bCh3ocAOQKJsc'\n",
    "    #url = 'https://www.youtube.com/channel/UCqzBihYmH0u-8h8XW2fv55A/videos'\n",
    "   \n",
    "    #get_page_data(get_html(url))\n",
    "    while True:\n",
    "        response = get_html(url)\n",
    "        get_page_data(response)\n",
    "        \n",
    "        url = get_next(response)\n",
    "    \n",
    "        if url:\n",
    "            continue\n",
    "        else:\n",
    "            break\n",
    "    "
   ]
  },
  {
   "cell_type": "code",
   "execution_count": null,
   "metadata": {},
   "outputs": [],
   "source": []
  },
  {
   "cell_type": "code",
   "execution_count": 60,
   "metadata": {},
   "outputs": [
    {
     "name": "stdout",
     "output_type": "stream",
     "text": [
      "Взлеты и падения в костюмах Brioni | Игнат, Big3Russia - Продолжительность: 41 минута\n",
      "Эмиграция из РФ: валить глупо оставаться - Продолжительность: 5 минут 38 секунд\n",
      "Почему на C++ еще пишут? Чем его заменят? | ШАД ЯНДЕКСА - Продолжительность: 4 минуты 6 секунд\n",
      "Боль и страдания. Первый месяц | ШАД ЯНДЕКСА - Продолжительность: 4 минуты 2 секунды\n",
      "Карьерные вопросы | #OfficeHours #3 - Продолжительность: 1 час 2 минуты\n",
      "Полируем профайл: CV и мотивационное письмо | СТАТЬ КОНСУЛЬТАНТОМ - Продолжительность: 45 минут\n",
      "Как стать боссом | Валерий Бабушкин, X5 / Яндекс.Советник - Продолжительность: 52 минуты\n",
      "Ask about management consulting | #OfficeHours #2 - Продолжительность: 1 час 8 минут\n",
      "Подготовка к ШАД - спросите вживую, на что еще не ответил | #OfficeHours #1 - Продолжительность: 35 минут\n",
      "STORYTELLING IN ACTION: Funeral oration story by Thomas Hulbert - Продолжительность: 4 минуты 30 секунд\n",
      "Data Scientist: кто нужен бизнесу и как их обучить | Виктор Кантор, Data Mining in Action - Продолжительность: 48 минут\n",
      "Data Science: Kaggle GRANDMASTER за полгода? | Павел Плесков, Data Nerds - Продолжительность: 36 минут\n",
      "ИЗ РИТЕЙЛА В BIG3 | МАКС БОЛОТСКИХ - Продолжительность: 35 минут\n",
      "РЕЗУЛЬТАТЫ | ШАД ЯНДЕКСА - Продолжительность: 57 секунд\n",
      "НАПОСЛЕДОК: БЕРИ И ДЕЛАЙ | ШАД ЯНДЕКСА - Продолжительность: 5 минут 8 секунд\n",
      "ВСЕ ЭЛЕКТРОННЫЕ МАТЕРИАЛЫ ДЛЯ ПОДГОТОВКИ | ШАД ЯНДЕКСА - Продолжительность: 5 минут 35 секунд\n",
      "КАК ПРОШЛО СОБЕСЕДОВАНИЕ? РАЗБОР ЗАДАЧ | ШАД ЯНДЕКСА - Продолжительность: 25 минут\n",
      "[НУЖЕН ВАШ ФИДБЕК!] КАК ПРОХОДИТ ИНТЕРВЬЮ. МОТИВАЦИОННЫЕ ВОПРОСЫ И ОТВЕТЫ | ШАД ЯНДЕКСА - Продолжительность: 9 минут 1 секунда\n",
      "КАК ПОПАСТЬ В БОЛЬШУЮ ТРОЙКУ В 35 ЛЕТ | БОРИС КУЛАХМЕТОВ - Продолжительность: 51 минута\n",
      "КАРЬЕРА НА СТЫКЕ DIGITAL И STRATEGY CONSULTING | АНАСТАСИЯ КИМ, IBM iX - Продолжительность: 34 минуты\n",
      "ИНТЕРВЬЮ: ЗАЧЕМ ШАД? | КАРИМ ИСКАКОВ, ШАД '18 - Продолжительность: 28 минут\n",
      "РЕШЕНИЯ ОЧНЫХ ЭКЗАМЕНОВ 2012-2018 | ШАД ЯНДЕКСА - Продолжительность: 22 минуты\n",
      "ПОДГОТОВКА К ИНТЕРВЬЮ | ШАД ЯНДЕКСА - Продолжительность: 4 минуты 39 секунд\n",
      "ЭКЗАМЕН: ПРОШЕЛ ИЛИ НЕТ НА СОБЕСЕДОВАНИЕ? | ШАД ЯНДЕКСА - Продолжительность: 45 секунд\n",
      "ПЛАН ПОДГОТОВКИ К ИНТЕРВЬЮ В БОЛЬШУЮ ТРОЙКУ | СТАТЬ КОНСУЛЬТАНТОМ - Продолжительность: 1 час 4 минуты\n",
      "АПЕЛЛЯЦИЯ | ШАД ЯНДЕКСА - Продолжительность: 85 секунд\n",
      "КНИГИ ДЛЯ ПОДГОТОВКИ | ШАД ЯНДЕКСА - Продолжительность: 6 минут 11 секунд\n",
      "РЕЗУЛЬТАТЫ ЭКЗАМЕНА. ПРОХОДНОЙ БАЛЛ. СТАТИСТИКА 2017 | ШАД ЯНДЕКСА - Продолжительность: 2 минуты 25 секунд\n",
      "ЭКЗАМЕН: МОИ ВПЕЧАТЛЕНИЯ И 5 ЛАЙФХАКОВ | ШАД ЯНДЕКСА - Продолжительность: 3 минуты 22 секунды\n",
      "В СУББОТУ ЭКЗАМЕН. ВИЗИТ В ШАД. OPENDATASCIENCE | ШАД ЯНДЕКСА - Продолжительность: 4 минуты 49 секунд\n",
      "ДОРОГА В КАНАДУ | САМИР ХАЛИЛОВ - Продолжительность: 36 минут\n",
      "УЧИТЬ НАДО, ДРУЗЬЯ МОИ...БОТАТЬ | ШАД ЯНДЕКСА - Продолжительность: 3 минуты 39 секунд\n",
      "КАК СТУДЕНТУ ПОВЫСИТЬ ШАНСЫ СТАТЬ КОНСУЛЬТАНТОМ - Продолжительность: 7 минут 20 секунд\n",
      "НЕ ГОТОВЬСЯ ОДИН | ШАД ЯНДЕКСА - Продолжительность: 6 минут 7 секунд\n",
      "ВЫШКА, РЭШ... ТРОЙКА? | СТАТЬ КОНСУЛЬТАНТОМ - Продолжительность: 2 минуты 40 секунд\n",
      "КАК Я СТРУКТУРИРОВАЛ ПОДГОТОВКУ И РЕШИЛ ОНЛАЙН-ТЕСТ | ШАД ЯНДЕКСА - Продолжительность: 4 минуты 54 секунды\n",
      "КОНСАЛТИНГ Q&A: СЕМЬЯ, DIGITAL, РАЗЛИЧИЯ MBB - Продолжительность: 10 минут\n",
      "КАКОЙ ЖЕ ТЫ ПРОГРАММИСТ? НЕ ТРАТЬ ВРЕМЯ! ИДИ НА COURSERA! ИЛИ... | ШАД ЯНДЕКСА - Продолжительность: 7 минут 46 секунд\n",
      "ИДУ В ШАД ЯНДЕКСА | ПОЧЕМУ, ЗАЧЕМ И КАК? - Продолжительность: 4 минуты 43 секунды\n",
      "OLIVER WYMAN NUMERICAL REASONING TEST EXPLAINED - Продолжительность: 1 час 38 минут\n",
      "Как рэпер из Усть-Илимска [со второго раза] в Стэнфорд поступил - Продолжительность: 45 минут\n",
      "GMAT-GRE SENTENCE - CORRECTION - II - Продолжительность: 40 минут\n",
      "MBA Q&A: BEST PROGRAMS FOR ENTREPRENEURS, HOW TO CHOOSE A PROGRAM, APPLYING WITH A SPOUSE, AND MORE! - Продолжительность: 14 минут\n",
      "Investment Banking 101 : DCF Model - Продолжительность: 25 минут\n",
      "7 Things I've Learned From Warren Buffett - Продолжительность: 7 минут 7 секунд\n",
      "Investment Banking 101 - Course Overview - Продолжительность: 82 секунды\n",
      "Investment Banking 101 : Projections - Продолжительность: 23 минуты\n",
      "Investment Banking 101: Operating Model - Продолжительность: 1 час 18 минут\n",
      "#5. SENTENCE CORRECTION | GMAT-GRE VERBAL with PHILIP O'HANLON - Продолжительность: 14 минут\n",
      "#4. ANALYTICAL WRITING | GMAT-GRE VERBAL with PHILIP O'HANLON - Продолжительность: 17 минут\n",
      "6 CONSULTING SKILLS WHICH HELP (AND HURT) ENTREPRENEURSHIP | - Продолжительность: 10 минут\n",
      "#3. CRITICAL REASONING: QUESTION TYPES | GMAT-GRE VERBAL with PHILIP O'HANLON - Продолжительность: 45 минут\n",
      "#2. CRITICAL REASONING: INDUCTIVE VS DEDUCTIVE | GMAT-GRE VERBAL with PHILIP O'HANLON - Продолжительность: 25 минут\n",
      "WHAT IS SPRAVKA: THE REAL REASON FOR MBA? | MBA WAR ROOM #9 - Продолжительность: 3 минуты 17 секунд\n",
      "HOW I GOT INTO STANFORD GSB AND WHY I DROPPED OUT - Продолжительность: 8 минут 35 секунд\n",
      "ONLINE APPLICATION: WHAT'S THE DEAL? | MBA WAR ROOM #8 - Продолжительность: 8 минут 33 секунды\n",
      "RECOMMENDATION LETTER: 4 CRITICAL POINTS | MBA WAR ROOM #7 - Продолжительность: 12 минут\n",
      "БАНКИР ИЗ ЛОНДОНА: РАБ ИЛИ ГОСПОДИН? | Алекс Наумов, Morgan Stanley | 16+ - Продолжительность: 48 минут\n",
      "YOUR CV: YOUR MBA PORTRAIT | MBA WAR ROOM #6 - Продолжительность: 7 минут 44 секунды\n",
      "GMAT GRE VERBAL COURSE - Продолжительность: 53 секунды\n",
      "STRUCTURING FOR CONSULTING CASE INTERVIEWS - Продолжительность: 48 секунд\n",
      "MBA ESSAY: 4 COMMON MISTAKES | MBA WAR ROOM #5 - Продолжительность: 8 минут 23 секунды\n",
      "СПОКОЙНОЙ НОЧИ, MBA! - Продолжительность: 7 секунд\n",
      "THE BUSINESS OF SCHOOL | MBA WAR ROOM #3 - Продолжительность: 5 минут 18 секунд\n",
      "YOUR MBA ESSAYS - THESIS | MBA WAR ROOM #4 - Продолжительность: 8 минут 11 секунд\n",
      "MBA ROUNDOLOGY & YOUR PROFILE TYPE | MBA WAR ROOM #2 - Продолжительность: 6 минут 48 секунд\n",
      "PREPARING AN MBA APPLICATION? | MBA WAR ROOM #1 - Продолжительность: 7 минут 48 секунд\n",
      "КАЛИФОРНИЯ: ПАЛЬМЫ, ЛЬВЫ, СТАРТАПЫ И УПОРСТВО | Антон Урбанас, Deckrobot - Продолжительность: 15 минут\n",
      "МОСКВА-БОСТОН: ВИЗА В США, ГРИНКАРТА, РАБОТА | Антон Урбанас, Deckrobot - Продолжительность: 11 минут\n",
      "MBA WAR ROOM COMING OUT ON DECEMBER 23 - Продолжительность: 22 секунды\n",
      "35. Уравнения: постоянные и переменные издержки - Продолжительность: 7 минут 29 секунд\n",
      "34. Уравнения: наценка и комиссия - Продолжительность: 14 минут\n",
      "33. Уравнения: прибыльность / profit margin - Продолжительность: 9 минут 26 секунд\n",
      "32. Уравнения: выручка / издержки / прибыль - Продолжительность: 10 минут\n",
      "31. Уравнения: было / произошло / стало - Продолжительность: 12 минут\n",
      "39. Круги Эйлера: сложные численные задачи - Продолжительность: 15 минут\n",
      "38. Круги Эйлера: логические выводы без чисел - Продолжительность: 4 минуты 24 секунды\n",
      "37. Круги Эйлера: введение - Продолжительность: 14 минут\n",
      "36. Принцип Дирихле - Продолжительность: 17 минут\n",
      "PROBLEM SOLVING TEST COURSE | Victor Rogulenko, Fless - Продолжительность: 32 секунды\n",
      "ПОЭТ И IT БИЗНЕС В США | Антон Урбанас, Deckrobot - Продолжительность: 11 минут\n",
      "DIGITAL ARISTOTLE | Moscow Hackathon Pitch - Продолжительность: 119 секунд\n",
      "EVERYONE HAS A STORY | Thomas Hulbert on MBA admission - Продолжительность: 32 минуты\n",
      "McKinsey PST 13: Closing Remarks - Продолжительность: 7 минут 16 секунд\n",
      "McKinsey PST 12: Euler Diagram - Продолжительность: 10 минут\n",
      "McKinsey PST 11: Box Principle - Продолжительность: 13 минут\n",
      "McKinsey PST 10: Necessary and Sufficient Conditions - Продолжительность: 5 минут 31 секунда\n",
      "Goldman Sachs: как попасть и куда уйти | Сергей Пестов, ex-GS и VTB - Продолжительность: 40 минут\n",
      "29. Уравнения: средний чек и общая выручка - Продолжительность: 5 минут 16 секунд\n",
      "28. Уравнения: разные скорости на разных промежутках - Продолжительность: 9 минут 6 секунд\n",
      "27. Уравнения: продуктивность и работа - Продолжительность: 6 минут 17 секунд\n",
      "30. Уравнения: доли и отношения - Продолжительность: 9 минут 24 секунды\n",
      "26. Уравнения: скорость, время, расстояние - Продолжительность: 13 минут\n",
      "22. Правило 72 и аналоги для спада - Продолжительность: 11 минут\n",
      "25. Правило 72 и аналоги для долей - Продолжительность: 5 минут 42 секунды\n",
      "24. От спада к росту и обратно - Продолжительность: 5 минут 15 секунд\n",
      "23. Одновременный рост нескольких величин - Продолжительность: 6 минут 34 секунды\n",
      "21. Еще несколько правил роста, аналогичных 72 - Продолжительность: 4 минуты 3 секунды\n",
      "20. Как самим вывести правило роста в k раз? - Продолжительность: 6 минут 6 секунд\n",
      "19. Правило 168 для расчета времени - Продолжительность: 7 минут 12 секунд\n",
      "18. Правило 72 для расчета CAGR - Продолжительность: 6 минут 56 секунд\n",
      "17. Правило 72 и аналоги: введение - Продолжительность: 5 минут 11 секунд\n",
      "16. Сложный процент / Compound margin - Продолжительность: 15 минут\n",
      "15. Сложения темпов роста - Продолжительность: 10 минут\n",
      "14. Приблизительные расчеты: дроби - Продолжительность: 9 минут 44 секунды\n",
      "13. Приблизительные расчеты: что важно - Продолжительность: 7 минут 55 секунд\n",
      "12. Работа с единицами измерения - Продолжительность: 7 минут 17 секунд\n",
      "11. Работа с курсами валют - Продолжительность: 15 минут\n",
      "10. Работа со степенями 10 - Продолжительность: 4 минуты 5 секунд\n",
      "SOME LIKE IT SHORT: 5 Successful Resume Tips! - Продолжительность: 5 минут 33 секунды\n",
      "09. Китайское умножение - Продолжительность: 5 минут 30 секунд\n",
      "08. Итальянское умножение - Продолжительность: 17 минут\n",
      "07. Разложение на множители для быстрого деления и умножения - Продолжительность: 3 минуты 39 секунд\n",
      "06. Квадраты чисел на 5. Разность квадратов как способ быстрого умножения - Продолжительность: 10 минут\n",
      "05. Расширенная таблица умножения - Продолжительность: 4 минуты 6 секунд\n",
      "04. Быстрое умножение с базой - Продолжительность: 9 минут 13 секунд\n",
      "02. Быстрое умножение - Продолжительность: 10 минут\n",
      "03. Быстрое умножение: раскрытие скобок - Продолжительность: 4 минуты 11 секунд\n",
      "01. Быстрое сложение и вычитание - Продолжительность: 6 минут 32 секунды\n",
      "McKinsey PST 09: Caveats - Продолжительность: 13 минут\n"
     ]
    },
    {
     "name": "stdout",
     "output_type": "stream",
     "text": [
      "McKinsey PST 08: Contribution Margin - Продолжительность: 10 минут\n",
      "McKinsey PST 07: Rule of 72 - Продолжительность: 8 минут 45 секунд\n",
      "Как проходят занятия Fless - Продолжительность: 2 минуты 50 секунд\n",
      "Зачем заниматься дебатами - Клуб дебатов МГИМО - Продолжительность: 39 секунд\n",
      "McKinsey PST 06: Compounding - Продолжительность: 13 минут\n",
      "McKinsey PST 05: Last 13% - Продолжительность: 14 минут\n",
      "McKinsey PST 04: Conclusion - Продолжительность: 10 минут\n",
      "McKinsey PST 03: Fact - Продолжительность: 14 минут\n",
      "McKinsey PST 02: Premise - Продолжительность: 14 минут\n",
      "McKinsey PST 01: Generic Approach | 16+ - Продолжительность: 29 минут\n",
      "McKinsey PST: Introduction - Продолжительность: 2 минуты 1 секунда\n",
      "About Flessibilità - Продолжительность: 48 секунд\n",
      "Финальный тест курса \"Математика для управленческого консалтинга\" - Разбор - Продолжительность: 1 час 20 минут\n",
      "PST LOMS - 1 Hour Test in 4 Minutes - Продолжительность: 3 минуты 43 секунды\n",
      "Foundations of Management Consulting and Value Creation - Overview - Продолжительность: 2 минуты 48 секунд\n",
      "McKinsey Problem Solving Test Theory (In Russian) - Продолжительность: 2 часа 35 минут\n",
      "Studying at STANFORD GSB | MBA Secrets - Продолжительность: 39 минут\n",
      "Case Practice: Alyona L., Hong Kong Port - Продолжительность: 54 минуты\n",
      "Case Practice: Vladislav K., Hong Kong Port - Продолжительность: 43 минуты\n",
      "Studying at HARVARD | MBA Secrets 16+ - Продолжительность: 50 минут\n"
     ]
    }
   ],
   "source": [
    "if __name__ == '__main__':\n",
    "    main()"
   ]
  },
  {
   "cell_type": "code",
   "execution_count": null,
   "metadata": {},
   "outputs": [],
   "source": []
  },
  {
   "cell_type": "code",
   "execution_count": 53,
   "metadata": {},
   "outputs": [],
   "source": []
  },
  {
   "cell_type": "code",
   "execution_count": 54,
   "metadata": {
    "collapsed": true
   },
   "outputs": [
    {
     "name": "stdout",
     "output_type": "stream",
     "text": [
      "0\n"
     ]
    }
   ],
   "source": []
  },
  {
   "cell_type": "code",
   "execution_count": null,
   "metadata": {},
   "outputs": [],
   "source": []
  },
  {
   "cell_type": "code",
   "execution_count": null,
   "metadata": {},
   "outputs": [],
   "source": []
  },
  {
   "cell_type": "code",
   "execution_count": null,
   "metadata": {},
   "outputs": [],
   "source": []
  },
  {
   "cell_type": "code",
   "execution_count": null,
   "metadata": {},
   "outputs": [],
   "source": []
  },
  {
   "cell_type": "code",
   "execution_count": null,
   "metadata": {},
   "outputs": [],
   "source": []
  },
  {
   "cell_type": "code",
   "execution_count": null,
   "metadata": {},
   "outputs": [],
   "source": []
  },
  {
   "cell_type": "code",
   "execution_count": null,
   "metadata": {},
   "outputs": [],
   "source": []
  },
  {
   "cell_type": "code",
   "execution_count": null,
   "metadata": {},
   "outputs": [],
   "source": []
  }
 ],
 "metadata": {
  "kernelspec": {
   "display_name": "Python 3",
   "language": "python",
   "name": "python3"
  },
  "language_info": {
   "codemirror_mode": {
    "name": "ipython",
    "version": 3
   },
   "file_extension": ".py",
   "mimetype": "text/x-python",
   "name": "python",
   "nbconvert_exporter": "python",
   "pygments_lexer": "ipython3",
   "version": "3.6.5"
  }
 },
 "nbformat": 4,
 "nbformat_minor": 2
}
