{
 "cells": [
  {
   "cell_type": "code",
   "execution_count": null,
   "metadata": {
    "scrolled": true
   },
   "outputs": [],
   "source": [
    "# Phipip's template to apply in another parser\n",
    "\n",
    "from tqdm import tqdm_notebook\n",
    "from joblib import Parallel, delayed\n",
    " \n",
    "n_jobs = -1 # параллелим на все ядра \n",
    "itog_news = Parallel(n_jobs=n_jobs)(delayed(get_vedomosty_news)(text) \\\n",
    "    for text in tqdm_notebook(itog_titles[600000:]))"
   ]
  },
  {
   "cell_type": "code",
   "execution_count": null,
   "metadata": {},
   "outputs": [
    {
     "name": "stdout",
     "output_type": "stream",
     "text": [
      "hi outside of main()\n"
     ]
    }
   ],
   "source": [
    "# doesn't works (windows 10 jupyter notebook)\n",
    "from multiprocessing import Pool\n",
    "\n",
    "import os, time\n",
    "\n",
    "print(\"hi outside of main()\")\n",
    "\n",
    "def hello(x):\n",
    "    print(\"inside hello()\")\n",
    "    print(\"Proccess id: \", os.getpid())\n",
    "    time.sleep(3)\n",
    "    return x*x\n",
    "\n",
    "if __name__ == \"__main__\":\n",
    "    p = Pool(5)\n",
    "    pool_output = p.map(hello, range(3))\n",
    "\n",
    "    print(pool_output)"
   ]
  },
  {
   "cell_type": "code",
   "execution_count": 1,
   "metadata": {},
   "outputs": [
    {
     "name": "stdout",
     "output_type": "stream",
     "text": [
      "hi outside of main()\n",
      "inside hello()inside hello()inside hello()\n",
      "\n",
      "Proccess id:  9224\n",
      "Proccess id:  9224\n",
      "\n",
      "Proccess id:  9224\n",
      "[0, 1, 4]\n"
     ]
    }
   ],
   "source": [
    "# works\n",
    "from multiprocessing.pool import ThreadPool\n",
    "import os, time\n",
    "\n",
    "print(\"hi outside of main()\")\n",
    "\n",
    "def hello(x):\n",
    "    print(\"inside hello()\")\n",
    "    print(\"Proccess id: \", os.getpid())\n",
    "    time.sleep(3)\n",
    "    return x*x\n",
    "\n",
    "if __name__ == \"__main__\":\n",
    "    p = ThreadPool(5)\n",
    "    pool_output = p.map(hello, range(3))\n",
    "\n",
    "    print(pool_output)"
   ]
  },
  {
   "cell_type": "code",
   "execution_count": null,
   "metadata": {},
   "outputs": [],
   "source": []
  },
  {
   "cell_type": "code",
   "execution_count": 5,
   "metadata": {},
   "outputs": [
    {
     "name": "stdout",
     "output_type": "stream",
     "text": [
      "12 --- 4\n",
      "3 --- 6\n",
      " --- 5\n"
     ]
    }
   ],
   "source": [
    "# works\n",
    "from multiprocessing.dummy import Pool as ThreadPool \n",
    "\n",
    "def write(i, x):\n",
    "    print(i, \"---\", x)\n",
    "\n",
    "a = [\"1\",\"2\",\"3\"]\n",
    "b = [\"4\",\"5\",\"6\"] \n",
    "\n",
    "pool = ThreadPool(2)\n",
    "pool.starmap(write, zip(a,b)) \n",
    "pool.close() \n",
    "pool.join()"
   ]
  },
  {
   "cell_type": "markdown",
   "metadata": {},
   "source": [
    "map vs starmap vs another itertools\n",
    "https://medium.com/apteo/multi-processing-in-python-ee0ce73a459b\n",
    "\n",
    "http://blog.shenwei.me/python-multiprocessing-pool-difference-between-map-apply-map_async-apply_async/"
   ]
  },
  {
   "cell_type": "code",
   "execution_count": 8,
   "metadata": {},
   "outputs": [
    {
     "name": "stdout",
     "output_type": "stream",
     "text": [
      "264 ns ± 40.3 ns per loop (mean ± std. dev. of 10 runs, 1000 loops each)\n",
      "235 ns ± 42.4 ns per loop (mean ± std. dev. of 10 runs, 1000 loops each)\n"
     ]
    }
   ],
   "source": [
    "# map vs starmap(zip())\n",
    "from operator import eq\n",
    "from itertools import starmap\n",
    "\n",
    "seq1 = [1,2,3]*10000\n",
    "seq2 = [1,2,3]*10000\n",
    "#seq2[-1] = 5\n",
    "\n",
    "gen1 = map(eq, seq1, seq2)\n",
    "gen2 = starmap(eq, zip(seq1, seq2))\n",
    "\n",
    "%timeit -n1000 -r10 next(gen1)\n",
    "%timeit -n1000 -r10 next(gen2)"
   ]
  },
  {
   "cell_type": "code",
   "execution_count": null,
   "metadata": {},
   "outputs": [],
   "source": []
  },
  {
   "cell_type": "code",
   "execution_count": null,
   "metadata": {},
   "outputs": [],
   "source": []
  },
  {
   "cell_type": "code",
   "execution_count": null,
   "metadata": {},
   "outputs": [],
   "source": []
  },
  {
   "cell_type": "code",
   "execution_count": null,
   "metadata": {},
   "outputs": [],
   "source": []
  }
 ],
 "metadata": {
  "kernelspec": {
   "display_name": "Python 3",
   "language": "python",
   "name": "python3"
  },
  "language_info": {
   "codemirror_mode": {
    "name": "ipython",
    "version": 3
   },
   "file_extension": ".py",
   "mimetype": "text/x-python",
   "name": "python",
   "nbconvert_exporter": "python",
   "pygments_lexer": "ipython3",
   "version": "3.6.5"
  }
 },
 "nbformat": 4,
 "nbformat_minor": 2
}
