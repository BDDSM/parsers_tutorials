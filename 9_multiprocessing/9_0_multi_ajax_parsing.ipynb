{
 "cells": [
  {
   "cell_type": "code",
   "execution_count": 8,
   "metadata": {},
   "outputs": [],
   "source": [
    "import requests\n",
    "import csv\n",
    "from multiprocessing import Pool\n",
    "from multiprocessing.pool import ThreadPool\n",
    "from multiprocessing.dummy import Pool as Th_Pool\n",
    "from time import sleep"
   ]
  },
  {
   "cell_type": "code",
   "execution_count": null,
   "metadata": {},
   "outputs": [],
   "source": []
  },
  {
   "cell_type": "code",
   "execution_count": null,
   "metadata": {},
   "outputs": [],
   "source": []
  },
  {
   "cell_type": "code",
   "execution_count": 2,
   "metadata": {},
   "outputs": [],
   "source": [
    "def get_html(url):\n",
    "#     sleep(1)\n",
    "    r = requests.get(url)\n",
    "    return r.text"
   ]
  },
  {
   "cell_type": "code",
   "execution_count": 3,
   "metadata": {},
   "outputs": [],
   "source": [
    "def write_csv(data):\n",
    "    with open('websites_test.csv', 'a', newline = '\\n', encoding = 'utf-8') as file:\n",
    "        order = ['name', 'url', 'description', 'traffic', 'percent']\n",
    "        writer = csv.DictWriter(file, fieldnames = order)\n",
    "        writer.writerow(data)"
   ]
  },
  {
   "cell_type": "code",
   "execution_count": 4,
   "metadata": {},
   "outputs": [],
   "source": [
    "def get_page_data(text):\n",
    "\n",
    "    data = text.strip().split('\\n')[1:]\n",
    "            \n",
    "    for row in data:\n",
    "        columns = row.strip().split('\\t')\n",
    "        name = columns[0]\n",
    "        url = columns[1]\n",
    "        description = columns[2]\n",
    "        traffic = columns[3]\n",
    "        percent = columns[4]\n",
    "\n",
    "        data = {'name':name,\n",
    "                'url': url,\n",
    "                'description': description,\n",
    "                'traffic': traffic,\n",
    "                'percent': percent}\n",
    "        write_csv(data)\n"
   ]
  },
  {
   "cell_type": "code",
   "execution_count": 5,
   "metadata": {},
   "outputs": [],
   "source": [
    "def make_all(url):\n",
    "    text = get_html(url)\n",
    "    get_page_data(text)"
   ]
  },
  {
   "cell_type": "code",
   "execution_count": null,
   "metadata": {},
   "outputs": [],
   "source": []
  },
  {
   "cell_type": "code",
   "execution_count": null,
   "metadata": {},
   "outputs": [],
   "source": []
  },
  {
   "cell_type": "code",
   "execution_count": 26,
   "metadata": {},
   "outputs": [],
   "source": [
    "def main():\n",
    "    #8500\n",
    "#     # &quote;\n",
    "    url = 'https://www.liveinternet.ru/rating/ru//today.tsv?page={}'\n",
    "    urls = [url.format(str(i)) for i in range(1,101)]\n",
    "    \n",
    "# multiprocessing with Pool doesn't work on windows 10 in jupyter\n",
    "#     with Pool(2) as p:\n",
    "#         p.map(make_all, urls)\n",
    "\n",
    "# doesn't return result\n",
    "#    map(make_all, urls)\n",
    "\n",
    "# just loop - works\n",
    "#     for url in urls:\n",
    "#          make_all(url)\n",
    "\n",
    "# works - uses threads instead of processes to run the workers logic\n",
    "# wall time 5.74s for 100 pages\n",
    "    with ThreadPool(5) as p:\n",
    "        p.map(make_all, urls)\n",
    "\n",
    "# another ThreadPool (from multiprocessing.dummy import Pool)\n",
    "# wall time 5.94s for 100 pages\n",
    "#    pool = Th_Pool(5)\n",
    "#    pool.starmap(make_all, zip(urls))\n",
    "#    pool.close()\n",
    "  \n",
    "    # Exit the completed process\n",
    "#    pool.join()\n",
    "\n",
    "\n"
   ]
  },
  {
   "cell_type": "code",
   "execution_count": 17,
   "metadata": {},
   "outputs": [],
   "source": [
    "# possible way to import function as module from another file\n",
    "# http://qaru.site/questions/6788872/python-multiprocessing-attributeerror-cant-get-attribute-abc"
   ]
  },
  {
   "cell_type": "code",
   "execution_count": null,
   "metadata": {},
   "outputs": [],
   "source": []
  },
  {
   "cell_type": "code",
   "execution_count": 27,
   "metadata": {},
   "outputs": [
    {
     "name": "stdout",
     "output_type": "stream",
     "text": [
      "Wall time: 10.6 s\n"
     ]
    }
   ],
   "source": [
    "%%time\n",
    "# works over 20 minutes\n",
    "\n",
    "if __name__ == '__main__':\n",
    "    main()"
   ]
  },
  {
   "cell_type": "code",
   "execution_count": null,
   "metadata": {},
   "outputs": [],
   "source": []
  },
  {
   "cell_type": "code",
   "execution_count": null,
   "metadata": {},
   "outputs": [],
   "source": []
  },
  {
   "cell_type": "code",
   "execution_count": null,
   "metadata": {},
   "outputs": [],
   "source": []
  },
  {
   "cell_type": "code",
   "execution_count": null,
   "metadata": {},
   "outputs": [],
   "source": []
  },
  {
   "cell_type": "code",
   "execution_count": null,
   "metadata": {},
   "outputs": [],
   "source": []
  },
  {
   "cell_type": "code",
   "execution_count": null,
   "metadata": {},
   "outputs": [],
   "source": []
  },
  {
   "cell_type": "code",
   "execution_count": null,
   "metadata": {},
   "outputs": [],
   "source": []
  },
  {
   "cell_type": "code",
   "execution_count": null,
   "metadata": {},
   "outputs": [],
   "source": []
  }
 ],
 "metadata": {
  "kernelspec": {
   "display_name": "Python 3",
   "language": "python",
   "name": "python3"
  },
  "language_info": {
   "codemirror_mode": {
    "name": "ipython",
    "version": 3
   },
   "file_extension": ".py",
   "mimetype": "text/x-python",
   "name": "python",
   "nbconvert_exporter": "python",
   "pygments_lexer": "ipython3",
   "version": "3.6.5"
  }
 },
 "nbformat": 4,
 "nbformat_minor": 2
}
