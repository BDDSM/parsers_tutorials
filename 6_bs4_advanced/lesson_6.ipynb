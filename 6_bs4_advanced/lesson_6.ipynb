{
 "cells": [
  {
   "cell_type": "code",
   "execution_count": 50,
   "metadata": {},
   "outputs": [],
   "source": [
    "from bs4 import BeautifulSoup\n",
    "import re"
   ]
  },
  {
   "cell_type": "code",
   "execution_count": null,
   "metadata": {},
   "outputs": [],
   "source": []
  },
  {
   "cell_type": "code",
   "execution_count": null,
   "metadata": {},
   "outputs": [],
   "source": []
  },
  {
   "cell_type": "code",
   "execution_count": null,
   "metadata": {},
   "outputs": [],
   "source": []
  },
  {
   "cell_type": "code",
   "execution_count": 22,
   "metadata": {},
   "outputs": [],
   "source": [
    "# .find()\n",
    "# .find_all()\n",
    "\n",
    "# .parent\n",
    "# .find_parent()\n",
    "\n",
    "# .parents\n",
    "# .find_parents()\n",
    "\n",
    "# .find_next_sibling()\n",
    "# .find_previous_sibling()"
   ]
  },
  {
   "cell_type": "code",
   "execution_count": null,
   "metadata": {},
   "outputs": [],
   "source": []
  },
  {
   "cell_type": "code",
   "execution_count": null,
   "metadata": {},
   "outputs": [],
   "source": []
  },
  {
   "cell_type": "code",
   "execution_count": null,
   "metadata": {},
   "outputs": [],
   "source": []
  },
  {
   "cell_type": "code",
   "execution_count": null,
   "metadata": {},
   "outputs": [],
   "source": []
  },
  {
   "cell_type": "code",
   "execution_count": null,
   "metadata": {},
   "outputs": [],
   "source": []
  },
  {
   "cell_type": "code",
   "execution_count": null,
   "metadata": {},
   "outputs": [],
   "source": []
  },
  {
   "cell_type": "code",
   "execution_count": null,
   "metadata": {},
   "outputs": [],
   "source": []
  },
  {
   "cell_type": "code",
   "execution_count": 31,
   "metadata": {},
   "outputs": [],
   "source": [
    "def main():\n",
    "    file = open('index.html', encoding = 'utf-8').read()\n",
    "    \n",
    "    soup = BeautifulSoup(file, 'lxml')\n",
    "    row = soup.find_all('div', {'data-set': 'salary'})\n",
    "    \n",
    "    alena = soup.find('div', text = 'Alena').find_parent(class_ = 'row')\n",
    "    print(alena)"
   ]
  },
  {
   "cell_type": "code",
   "execution_count": null,
   "metadata": {},
   "outputs": [],
   "source": []
  },
  {
   "cell_type": "code",
   "execution_count": 35,
   "metadata": {},
   "outputs": [],
   "source": [
    "def get_copywriter(tag):\n",
    "    whois = tag.find('div', id = 'whois').text.strip()\n",
    "    if 'Copywriter' in whois:\n",
    "        return tag\n",
    "    return None"
   ]
  },
  {
   "cell_type": "code",
   "execution_count": null,
   "metadata": {},
   "outputs": [],
   "source": []
  },
  {
   "cell_type": "code",
   "execution_count": 37,
   "metadata": {},
   "outputs": [],
   "source": [
    "def main():\n",
    "    file = open('index.html', encoding = 'utf-8').read()\n",
    "    \n",
    "    soup = BeautifulSoup(file, 'lxml')\n",
    "    persons = soup.find_all('div', class_ = 'row')\n",
    "     \n",
    "    copywriters = []\n",
    "    \n",
    "    for person in persons:\n",
    "        cw = get_copywriter(person)\n",
    "        if cw:\n",
    "            copywriters.append(cw)\n",
    "    \n",
    "    print(copywriters)"
   ]
  },
  {
   "cell_type": "code",
   "execution_count": null,
   "metadata": {},
   "outputs": [],
   "source": []
  },
  {
   "cell_type": "code",
   "execution_count": null,
   "metadata": {},
   "outputs": [],
   "source": []
  },
  {
   "cell_type": "code",
   "execution_count": 64,
   "metadata": {},
   "outputs": [],
   "source": [
    "def get_salary(s):\n",
    "    pattern = r'\\d{1,9}'\n",
    "    # salary = re.findall(pattern, s)[0]\n",
    "    salary = re.search(pattern, s).group()\n",
    "    print(salary)"
   ]
  },
  {
   "cell_type": "code",
   "execution_count": null,
   "metadata": {},
   "outputs": [],
   "source": []
  },
  {
   "cell_type": "code",
   "execution_count": 60,
   "metadata": {},
   "outputs": [],
   "source": [
    "def main():\n",
    "    file = open('index.html', encoding = 'utf-8').read()\n",
    "    \n",
    "    soup = BeautifulSoup(file, 'lxml')\n",
    "    salary = soup.find_all('div', {'data-set': 'salary'})\n",
    "    \n",
    "    for i in salary:\n",
    "        print(i.text.strip())\n",
    "        "
   ]
  },
  {
   "cell_type": "code",
   "execution_count": null,
   "metadata": {},
   "outputs": [],
   "source": []
  },
  {
   "cell_type": "code",
   "execution_count": 68,
   "metadata": {},
   "outputs": [],
   "source": [
    "def main():\n",
    "    file = open('index.html', encoding = 'utf-8').read()\n",
    "    \n",
    "    soup = BeautifulSoup(file, 'lxml')\n",
    "    salary = soup.find_all('div', text = re.compile('\\d{1,9}'))\n",
    "    \n",
    "    for i in salary:\n",
    "        # get_salary(i.text.strip())\n",
    "        print(i.text)"
   ]
  },
  {
   "cell_type": "code",
   "execution_count": null,
   "metadata": {},
   "outputs": [],
   "source": []
  },
  {
   "cell_type": "code",
   "execution_count": null,
   "metadata": {},
   "outputs": [],
   "source": [
    "# ^ - начало строки\n",
    "# $ - конец строки\n",
    "# . - любой символ\n",
    "# + - неограниченное кол-во вхождений\n",
    "# '\\d' - цифра\n",
    "# '\\w' - буква, цирфа, _\n",
    "\n",
    "# mail@mail.cpm\n",
    "# @twitter\n",
    "# '^@\\w+'"
   ]
  },
  {
   "cell_type": "code",
   "execution_count": null,
   "metadata": {},
   "outputs": [],
   "source": []
  },
  {
   "cell_type": "code",
   "execution_count": null,
   "metadata": {},
   "outputs": [],
   "source": []
  },
  {
   "cell_type": "code",
   "execution_count": null,
   "metadata": {},
   "outputs": [],
   "source": []
  },
  {
   "cell_type": "code",
   "execution_count": 69,
   "metadata": {},
   "outputs": [
    {
     "name": "stdout",
     "output_type": "stream",
     "text": [
      "salary: 2700 usd per month\n",
      "salary: 2100 usd\n",
      "2100 usd\n",
      "2300 usd\n"
     ]
    }
   ],
   "source": [
    "if __name__ == '__main__':\n",
    "    main()"
   ]
  },
  {
   "cell_type": "code",
   "execution_count": 30,
   "metadata": {},
   "outputs": [
    {
     "name": "stdout",
     "output_type": "stream",
     "text": [
      "<!DOCTYPE html>\n",
      "<html lang=\"en\">\n",
      "<head>\n",
      "    <meta charset=\"UTF-8\">\n",
      "    <title>Document</title>\n",
      "</head>\n",
      "<body>\n",
      "    <div class=\"container\">\n",
      "        <div class=\"row\">\n",
      "            <div class=\"name\">Petr</div>\n",
      "            <div id=\"whois\">Python developer</div>\n",
      "            <div data-set=\"salary\">salary: 2700 usd per month</div>\n",
      "            <div class=\"links\">\n",
      "                <a href=\"https://www.google.ru\">Google</a>\n",
      "                <a href=\"www.website.ru\">Website</a>\n",
      "                <a href=\"doroga.ru\">Personal Webpage</a>\n",
      "            </div>\n",
      "            <div>\n",
      "                <p></p>\n",
      "                <p></p>\n",
      "                <p></p>\n",
      "                <p>some@mail</p>\n",
      "            </div>\n",
      "        </div>\n",
      "\n",
      "        <div class=\"row\">\n",
      "            <div class=\"name1\">\n",
      "                <div class=\"name\">Alena</div>\n",
      "            </div>\n",
      "            <div id=\"whois\">Copywriter</div>\n",
      "            <div data-set=\"salary\">salary: 2100 usd</div>\n",
      "            <div class=\"links\">\n",
      "                <a href=\"http://yandex.ru\">Яндекс</a>\n",
      "                <a href=\"http://yandex.ru/website\">Яндекс</a>\n",
      "                <a href=\"http://yandex.ru/website/2\">Яндекс</a>\n",
      "\n",
      "                <a href=\"www.website.ru\">Website</a>\n",
      "                <a href=\"doroga.ru\">Personal Webpage</a>\n",
      "            </div>\n",
      "            <div>\n",
      "                <p>@twitter</p>\n",
      "                <p></p>\n",
      "                <p>some@mail</p>\n",
      "                <p></p>\n",
      "            </div>\n",
      "\n",
      "        </div>\n",
      "\n",
      "        <div class=\"row\">\n",
      "            <div class=\"name\">Kate</div>\n",
      "            <div id=\"whois\">Copywriter</div>\n",
      "            <div data-set=\"salary\">2100 usd</div>\n",
      "            <div class=\"links\">\n",
      "                <a href=\"http://yandex.ru\">Яндекс</a>\n",
      "                <a href=\"http://yandex.ru/website\">Яндекс</a>\n",
      "                <a href=\"http://yandex.ru/website/2\">Яндекс</a>\n",
      "\n",
      "                <a href=\"www.website.ru\">Website</a>\n",
      "                <a href=\"doroga.ru\">Personal Webpage</a>\n",
      "            </div>\n",
      "            <div>\n",
      "                <p>@twitter</p>\n",
      "                <p></p>\n",
      "                <p>some@mail</p>\n",
      "                <p></p>\n",
      "            </div>\n",
      "        </div>\n",
      "\n",
      "        <div class=\"row\">\n",
      "            <div class=\"name\">Ksenia</div>\n",
      "            <div id=\"whois\">Designer</div>\n",
      "            <div data-set=\"salary\">2300 usd</div>\n",
      "\n",
      "            <div class=\"links\">\n",
      "                <p>some@mail</p>             <!--  мыло здесь  -->\n",
      "                <a href=\"http://yandex.ru\">Яндекс</a>\n",
      "                <a href=\"http://yandex.ru/website\">Яндекс</a>\n",
      "                <a href=\"http://yandex.ru/website/2\">Яндекс</a>\n",
      "\n",
      "                <a href=\"www.website.ru\">Website</a>\n",
      "                <a href=\"doroga.ru\">Personal Webpage</a>\n",
      "            </div>\n",
      "\n",
      "            <div>\n",
      "                Links:\n",
      "                <p>Мой твиттер @twitter Подписывайтесь</p>\n",
      "                <p></p>\n",
      "                <p></p>\n",
      "            </div>\n",
      "        </div>\n",
      "    </div>\n",
      "\n",
      "    <div>\n",
      "        <a href=\"mailto:email@mail.net\">Это не мое мыло</a>\n",
      "    </div>\n",
      "\n",
      "\n",
      "\n",
      "</body>\n",
      "</html>\n",
      "\n"
     ]
    }
   ],
   "source": [
    "file0 = open('index.html', encoding = 'utf-8').read()\n",
    "print(file0)"
   ]
  }
 ],
 "metadata": {
  "kernelspec": {
   "display_name": "Python 3",
   "language": "python",
   "name": "python3"
  },
  "language_info": {
   "codemirror_mode": {
    "name": "ipython",
    "version": 3
   },
   "file_extension": ".py",
   "mimetype": "text/x-python",
   "name": "python",
   "nbconvert_exporter": "python",
   "pygments_lexer": "ipython3",
   "version": "3.6.5"
  }
 },
 "nbformat": 4,
 "nbformat_minor": 2
}
