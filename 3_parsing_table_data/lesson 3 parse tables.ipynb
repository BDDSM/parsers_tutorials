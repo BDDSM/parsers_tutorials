{
 "cells": [
  {
   "cell_type": "code",
   "execution_count": 6,
   "metadata": {},
   "outputs": [],
   "source": [
    "import requests\n",
    "from bs4 import BeautifulSoup\n",
    "import csv"
   ]
  },
  {
   "cell_type": "code",
   "execution_count": null,
   "metadata": {},
   "outputs": [],
   "source": []
  },
  {
   "cell_type": "code",
   "execution_count": 1,
   "metadata": {},
   "outputs": [],
   "source": [
    "def get_html(url):\n",
    "    r = requests.get(url)\n",
    "    return r.text"
   ]
  },
  {
   "cell_type": "code",
   "execution_count": 2,
   "metadata": {},
   "outputs": [],
   "source": [
    "def write_csv(data):\n",
    "    with open('cmc.csv', 'a', newline=\"\\n\") as f:\n",
    "        writer = csv.writer(f)\n",
    "        \n",
    "        writer.writerow([data['name'],\n",
    "                         data['symbol'],\n",
    "                         data['url'],\n",
    "                         data['price']])"
   ]
  },
  {
   "cell_type": "code",
   "execution_count": null,
   "metadata": {},
   "outputs": [],
   "source": []
  },
  {
   "cell_type": "code",
   "execution_count": 3,
   "metadata": {},
   "outputs": [],
   "source": [
    "def get_page_data(html):\n",
    "    soup = BeautifulSoup(html, 'lxml')\n",
    "    \n",
    "    trs = soup.find('table', id = 'currencies').find('tbody').find_all('tr')\n",
    "    \n",
    "    for tr in trs:\n",
    "        tds = tr.find_all('td')\n",
    "        name = tds[1].find('a',\n",
    "                          class_='currency-name-container link-secondary').text\n",
    "        symbol = tds[1].find('a').text\n",
    "        url = 'https://coinmarketcap.com' + tds[1].find('a').get('href')\n",
    "        #price0 = tds[3].get('data-sort')\n",
    "        price = tds[3].find('a', class_ = 'price').get('data-usd')\n",
    "        \n",
    "        data = {'name': name,\n",
    "                'symbol': symbol,\n",
    "                'url': url,\n",
    "                'price': price}\n",
    "        print(price)\n",
    "        #write_csv(data)"
   ]
  },
  {
   "cell_type": "code",
   "execution_count": null,
   "metadata": {},
   "outputs": [],
   "source": []
  },
  {
   "cell_type": "code",
   "execution_count": 4,
   "metadata": {},
   "outputs": [],
   "source": [
    "def main():\n",
    "    url = 'https://coinmarketcap.com/'\n",
    "    get_page_data(get_html(url))"
   ]
  },
  {
   "cell_type": "code",
   "execution_count": null,
   "metadata": {},
   "outputs": [],
   "source": []
  },
  {
   "cell_type": "code",
   "execution_count": 7,
   "metadata": {},
   "outputs": [
    {
     "name": "stdout",
     "output_type": "stream",
     "text": [
      "3419.01021498\n",
      "0.299894973723\n",
      "88.4766943237\n",
      "0.113155996999\n",
      "1.00951572268\n",
      "99.2866716903\n",
      "1.8521873305\n",
      "88.0911053136\n",
      "23.8054554535\n",
      "0.0133496135138\n",
      "0.0292365364603\n",
      "42.7386870906\n",
      "0.0695099681701\n",
      "0.224355931105\n",
      "4.6850315191\n",
      "65.5697055329\n",
      "3.78964058567\n",
      "5.85014612813\n",
      "54.3638610521\n",
      "0.00209048822248\n",
      "318.236572708\n",
      "0.363669545416\n",
      "1.01963710989\n",
      "0.00372226144351\n",
      "11.4476448874\n",
      "1.01972075573\n",
      "1.28824001558\n",
      "1.01039977325\n",
      "0.309751385733\n",
      "0.136285109982\n",
      "1.59765906568\n",
      "0.52697450103\n",
      "1.6733838112\n",
      "1.19208652422\n",
      "14.6723643658\n",
      "0.824650557215\n",
      "0.709610699013\n",
      "0.0133592269417\n",
      "0.000568895724109\n",
      "0.0364768203583\n",
      "0.00871584579082\n",
      "0.203512046965\n",
      "0.0142582454396\n",
      "0.386985403609\n",
      "0.00232777272344\n",
      "0.00576304479676\n",
      "1.0070373654\n",
      "9.23608899168\n",
      "0.000513083125562\n",
      "0.216122800821\n",
      "0.241743136347\n",
      "0.206652428429\n",
      "0.0697666556861\n",
      "0.344677849816\n",
      "5.96131491551\n",
      "0.141046146859\n",
      "0.0660179178686\n",
      "0.634015450952\n",
      "1.1642865304\n",
      "0.127373019872\n",
      "0.545285730522\n",
      "0.000449401491157\n",
      "0.0545214425862\n",
      "1.02063189867\n",
      "1.00494054349\n",
      "1.09090953993\n",
      "0.00635888909925\n",
      "0.0498532834158\n",
      "0.0142062010633\n",
      "0.0525772651754\n",
      "0.00389606141371\n",
      "0.481050128472\n",
      "0.428203991971\n",
      "0.195736170837\n",
      "2.06117455048\n",
      "0.07136228212\n",
      "0.339933206621\n",
      "0.913898380568\n",
      "2.50318209121\n",
      "0.712419841729\n",
      "1.15364105732\n",
      "0.326709000543\n",
      "0.553872124564\n",
      "0.12015205858\n",
      "0.0428208543984\n",
      "0.0754922449544\n",
      "0.60562741013\n",
      "0.04595966139\n",
      "0.570409149096\n",
      "0.00112335967841\n",
      "0.0132132435725\n",
      "0.299443250969\n",
      "0.521774428979\n",
      "0.0389056702616\n",
      "0.117081334092\n",
      "1.93572581422\n",
      "0.509463888767\n",
      "0.108061189709\n",
      "0.175779671712\n",
      "8.90705305339e-05\n"
     ]
    }
   ],
   "source": [
    "if __name__ == '__main__':\n",
    "    main()"
   ]
  },
  {
   "cell_type": "code",
   "execution_count": null,
   "metadata": {},
   "outputs": [],
   "source": []
  },
  {
   "cell_type": "code",
   "execution_count": null,
   "metadata": {},
   "outputs": [],
   "source": []
  },
  {
   "cell_type": "code",
   "execution_count": null,
   "metadata": {},
   "outputs": [],
   "source": []
  },
  {
   "cell_type": "code",
   "execution_count": null,
   "metadata": {},
   "outputs": [],
   "source": []
  },
  {
   "cell_type": "code",
   "execution_count": null,
   "metadata": {},
   "outputs": [],
   "source": []
  },
  {
   "cell_type": "code",
   "execution_count": null,
   "metadata": {},
   "outputs": [],
   "source": []
  },
  {
   "cell_type": "code",
   "execution_count": null,
   "metadata": {},
   "outputs": [],
   "source": []
  },
  {
   "cell_type": "code",
   "execution_count": null,
   "metadata": {},
   "outputs": [],
   "source": []
  },
  {
   "cell_type": "code",
   "execution_count": null,
   "metadata": {},
   "outputs": [],
   "source": []
  }
 ],
 "metadata": {
  "kernelspec": {
   "display_name": "Python 3",
   "language": "python",
   "name": "python3"
  },
  "language_info": {
   "codemirror_mode": {
    "name": "ipython",
    "version": 3
   },
   "file_extension": ".py",
   "mimetype": "text/x-python",
   "name": "python",
   "nbconvert_exporter": "python",
   "pygments_lexer": "ipython3",
   "version": "3.6.5"
  }
 },
 "nbformat": 4,
 "nbformat_minor": 2
}
